{
  "cells": [
    {
      "cell_type": "markdown",
      "metadata": {
        "id": "6g5gGAZllAWT"
      },
      "source": [
        "# SCS2013 Python Programming Midterm Exam (2022-Spring 1분반)\n",
        "\n",
        "SCS2013 Python Programming 중간고사입니다. \n",
        "\n",
        "주어진 설명을 잘 읽고, 구체적인 지시사항이 있다면 그에 따라 구현하세요. \n",
        "\n",
        "코드를 완성한 후, **SCS2013_Mid_학번_이름.ipynb** 로 파일을 저장한 후 eclass의 과제제출을 통해 제출하세요. "
      ]
    },
    {
      "cell_type": "markdown",
      "metadata": {
        "id": "XQYikOy-lfiJ"
      },
      "source": [
        "## P-1\n",
        "\n",
        "string formatting을 사용하여 다음과 같은 결과를 얻을 수 있도록 코드를 작성하세요. \n",
        "\n",
        "**1-1**. `name, day, temperature, weather`의 정보를 사용해 아래와 같은 형태로 출력하세요. \n",
        "- `.format()`을 사용하여 포매팅합니다 - format() 함수의 입력값은 정해져 있습니다. \n",
        "- 주어진 변수 `name, day, temperature, weather`를 사용하세요. 값을 직접 출력하지 않습니다. \n",
        "- 문자열 내에는 작은 따옴표와 큰 따옴표가 포함되어 있습니다. \n",
        "- 첫 문장 이후 줄바꿈이 있습니다.\n",
        "- 온도는 소수점 2자리까지 표현합니다. \n",
        "\n",
        "실행 결과: \n",
        "```\n",
        "Hi \"Amy\"! Today is Tuesday.\n",
        "Today's weather is Windy and the temperature is 21.50.\n",
        "```"
      ]
    },
    {
      "cell_type": "code",
      "execution_count": null,
      "metadata": {},
      "outputs": [],
      "source": []
    },
    {
      "cell_type": "code",
      "execution_count": 5,
      "metadata": {
        "colab": {
          "base_uri": "https://localhost:8080/"
        },
        "id": "SiA56mzLuu2T",
        "outputId": "83c39d33-5864-4258-cf88-bdf6d50ca65e"
      },
      "outputs": [
        {
          "name": "stdout",
          "output_type": "stream",
          "text": [
            "Hi \"Amy\"! Today is Tuesday.\n",
            "Today's weather is Windy and the temperature is 21.50.\n"
          ]
        }
      ],
      "source": [
        "# 1-1 \n",
        "name = 'Amy'\n",
        "day = 'Tuesday'\n",
        "temperature = 21.5\n",
        "weather = 'Windy'\n",
        "\n",
        "# 빈 칸을 채우세요: your code here\n",
        "print('Hi \"{C}\"! Today is {A}.\\nToday\\'s weather is {D} and the temperature is {B:.2f}.'.format(C=name, A=day, B=temperature, D=weather))"
      ]
    },
    {
      "cell_type": "markdown",
      "metadata": {
        "id": "er1NCYq4c-dh"
      },
      "source": [
        "**1-2**. `data`로 주어진 여러 회사들의 이름, 주식 개수, 가격에 관한 정보를 아래와 같은 형태로 출력하세요. \n",
        "- 포매팅 방법은 자유롭게 사용해도 됩니다: % operator, .format(), f-string 모두 가능.\n",
        "- 다만 `data`를 사용해야 하며 값을 직접 출력하지 않습니다. \n",
        "- 반복문을 사용합니다. \n",
        "- 회사이름, 주식 개수, 가격은 모두 오른쪽 정렬된 10자리로 표현합니다. (회사 이름은 string, 주식 개수는 정수형이며, 가격은 소수점 3자리까지 표현합니다.) \n",
        "\n",
        "실행 결과: \n",
        "```\n",
        "      AAPL         50    139.070\n",
        "       IBM         72    118.610\n",
        "      MSFT         13    225.950\n",
        "      GOOG         22   1901.050\n",
        "```\n",
        "\n",
        "- (추가 선택사항) `data`를 출력하기 전에 `frame`에 주어진 정보 역시 오른쪽 정렬된 10자리로 표현하여 아래와 같이 만들어보세요. \n",
        "\n",
        "실행 결과:\n",
        "```\n",
        "   Company     Shares      Price\n",
        "      AAPL         50    139.070\n",
        "       IBM         72    118.610\n",
        "      MSFT         13    225.950\n",
        "      GOOG         22   1901.050\n",
        "```\n",
        "\n"
      ]
    },
    {
      "cell_type": "code",
      "execution_count": 36,
      "metadata": {},
      "outputs": [
        {
          "name": "stdout",
          "output_type": "stream",
          "text": [
            "   Company     Shares      Price\n",
            "      AAPL         50    139.070\n",
            "       IBM         72    118.610\n",
            "      MSFT         13    225.950\n",
            "      GOOG         22   1901.050\n"
          ]
        }
      ],
      "source": [
        "data = [('AAPL', 50, 139.07), ('IBM', 72, 118.61), ('MSFT', 13, 225.95), ('GOOG', 22, 1901.05)]\n",
        "frame = ('Company', 'Shares', 'Price')\n",
        "print(f'{frame[0]:>10} {frame[1]:>10} {frame[2]:>10}')\n",
        "\n",
        "for i in range(len(data)):\n",
        "    print(f'{data[i][0]:>10} {data[i][1]:>10} {data[i][2]:>10.3f}')"
      ]
    },
    {
      "cell_type": "code",
      "execution_count": 35,
      "metadata": {
        "colab": {
          "base_uri": "https://localhost:8080/"
        },
        "id": "a5UL6LnQxXpc",
        "outputId": "eccae909-ff05-4f91-90e8-4b53929e1710"
      },
      "outputs": [
        {
          "name": "stdout",
          "output_type": "stream",
          "text": [
            "   Company     Shares      Price\n",
            "!!!!!!AAPL !!!!!!!!50    139.070\n",
            "!!!!!!!IBM !!!!!!!!72    118.610\n",
            "!!!!!!MSFT !!!!!!!!13    225.950\n",
            "!!!!!!GOOG !!!!!!!!22   1901.050\n"
          ]
        }
      ],
      "source": [
        "# 1-2\n",
        "data = [('AAPL', 50, 139.07), ('IBM', 72, 118.61), ('MSFT', 13, 225.95), ('GOOG', 22, 1901.05)]\n",
        "frame = ('Company', 'Shares', 'Price')\n",
        "\n",
        "# 필요한 코드를 작성하세요: your code here\n",
        "print(f'{frame[0]:>10} {frame[1]:>10} {frame[2]:>10}')\n",
        "for i in data:\n",
        "  print(f'{i[0]:!>10} {i[1]:!>10} {i[2]:>10.3f}')\n",
        "\n",
        "\n"
      ]
    },
    {
      "cell_type": "markdown",
      "metadata": {
        "id": "8tsIRUlk-Htd"
      },
      "source": [
        "## P-2\n",
        "\n",
        "리스트를 입력받아 다음의 두 가지를 구해 반환하는 함수 `get_Unique_Count`를 구현하세요. \n",
        "- 입력받는 리스트는 다양한 자료형을 원소로 포함할 수 있습니다. \n",
        "- 반환하는 항목은 두 개입니다\n",
        "  - 첫번째: 중복된 원소를 제거한 리스트를 반환합니다. \n",
        "  - 두번째: 각 원소의 값과 그 원소가 몇 번 나타나는지 (횟수)를 key-value로 하는 딕셔너리를 만들어 반환합니다. \n",
        "\n",
        "실행 결과:\n",
        "```\n",
        "Original list:  [1, 2, 6, 2, 3, 1, 10]\n",
        "Unique list:  [1, 2, 6, 3, 10]\n",
        "Count dictionary:  {1: 2, 2: 2, 6: 1, 3: 1, 10: 1}\n",
        "=====\n",
        "Original list:  [1, 3, 'a', 3, 'b', 'a', '1', 'hello']\n",
        "Unique list:  [1, 3, 'a', 'b', '1', 'hello']\n",
        "Count dictionary:  {1: 1, 3: 2, 'a': 2, 'b': 1, '1': 1, 'hello': 1}\n",
        "```\n"
      ]
    },
    {
      "cell_type": "code",
      "execution_count": null,
      "metadata": {},
      "outputs": [],
      "source": [
        "def get_Unique_Count(lst):\n",
        "    uni_lst=[]\n",
        "    count_lst={}\n",
        "    for i in lst:\n",
        "        if i not in uni_lst:\n",
        "            uni_lst.append(i)\n",
        "            count_lst[i] = 1\n",
        "        elif i in uni_lst:\n",
        "            count_lst[i] += 1\n",
        "    return uni_lst, count_lst\n"
      ]
    },
    {
      "cell_type": "code",
      "execution_count": 19,
      "metadata": {
        "id": "yPSLzN3yCRer"
      },
      "outputs": [],
      "source": [
        "# get_Unique_Count 함수를 구현하세요: your code here \n",
        "def get_Unique_Count(list):\n",
        "  unique_list = []\n",
        "  count_dict = {}\n",
        "  for i in list:\n",
        "    if i in unique_list:\n",
        "      continue\n",
        "    else:\n",
        "      unique_list.append(i)\n",
        "  for i in unique_list:\n",
        "    count_dict.update({i:0})\n",
        "  \n",
        "  for i in list:\n",
        "    count_dict[i] = count_dict[i] + 1\n",
        "  \n",
        "  return unique_list, count_dict\n",
        "    \n",
        "  \n",
        "\n"
      ]
    },
    {
      "cell_type": "code",
      "execution_count": 8,
      "metadata": {
        "colab": {
          "base_uri": "https://localhost:8080/"
        },
        "id": "CZ8CBfnkCcJ7",
        "outputId": "38d7e6ce-ed08-419f-cc77-1b3b3ac3756e"
      },
      "outputs": [
        {
          "name": "stdout",
          "output_type": "stream",
          "text": [
            "Original list:  [1, 2, 6, 2, 3, 1, 10]\n",
            "Unique list:  [1, 2, 6, 3, 10]\n",
            "Count dictionary:  {1: 2, 2: 2, 6: 1, 3: 1, 10: 1}\n",
            "=====\n",
            "Original list:  [1, 3, 'a', 3, 'b', 'a', '1', 'hello']\n",
            "Unique list:  [1, 3, 'a', 'b', '1', 'hello']\n",
            "Count dictionary:  {1: 1, 3: 2, 'a': 2, 'b': 1, '1': 1, 'hello': 1}\n"
          ]
        }
      ],
      "source": [
        "# 정의한 함수를 이용해 아래를 실행하여 결과를 확인하세요. \n",
        "def get_Unique_Count(lst):\n",
        "    uni_lst=[]\n",
        "    count_lst={}\n",
        "    for i in lst:\n",
        "        if i not in uni_lst:\n",
        "            uni_lst.append(i)\n",
        "            count_lst[i] = 1\n",
        "        elif i in uni_lst:\n",
        "            count_lst[i] += 1\n",
        "    return uni_lst, count_lst\n",
        "\n",
        "lst_1 = [1,2,6,2,3,1,10]\n",
        "lst_2 = [1,3,'a',3,'b','a','1','hello']\n",
        "\n",
        "uni_lst_1, count_dict_1 = get_Unique_Count(lst_1)\n",
        "uni_lst_2, count_dict_2 = get_Unique_Count(lst_2)\n",
        "\n",
        "print('Original list: ', lst_1)\n",
        "print('Unique list: ', uni_lst_1)\n",
        "print('Count dictionary: ', count_dict_1)\n",
        "print('=====')\n",
        "print('Original list: ', lst_2)\n",
        "print('Unique list: ', uni_lst_2)\n",
        "print('Count dictionary: ', count_dict_2)"
      ]
    },
    {
      "cell_type": "markdown",
      "metadata": {
        "id": "Cap9allu8Duc"
      },
      "source": [
        "## P-3\n",
        "\n",
        "**3-1**. 하나의 정수를 입력받아 아래와 같은 패턴을 출력하는 함수 `print_pattern`을 반복문을 사용하여 구현하세요. \n",
        "- 1부터 입력받은 숫자까지 반복적으로 해당 숫자를 반복하여 출력합니다. \n",
        "- 반복 횟수는 숫자에 따라 다르며, 반복 사이에 공백이 있음에 유의하세요.\n",
        "\n",
        "실행 결과: \n",
        "```\n",
        "1 \n",
        "2 2 \n",
        "3 3 3 \n",
        "4 4 4 4 \n",
        "5 5 5 5 5 \n",
        "```\n",
        "\n",
        "**3-2**. 동일한 기능을 하는 함수 `print_pattern_rec`를 재귀함수로 구현하세요. \n",
        "\n",
        "실행 결과: \n",
        "```\n",
        "1 \n",
        "2 2 \n",
        "3 3 3 \n",
        "4 4 4 4 \n",
        "5 5 5 5 5 \n",
        "```"
      ]
    },
    {
      "cell_type": "code",
      "execution_count": 38,
      "metadata": {},
      "outputs": [
        {
          "name": "stdout",
          "output_type": "stream",
          "text": [
            "1 \n",
            "2 2 \n",
            "3 3 3 \n",
            "4 4 4 4 \n",
            "5 5 5 5 5 \n"
          ]
        }
      ],
      "source": [
        "def print_pattern(num):\n",
        "    for i in range(num+1):\n",
        "        if i == 0:\n",
        "            pass\n",
        "        else:\n",
        "            for j in range(i):\n",
        "                print(i, end = ' ')\n",
        "            print()\n",
        "\n",
        "num = 5\n",
        "print_pattern(num)\n"
      ]
    },
    {
      "cell_type": "code",
      "execution_count": 14,
      "metadata": {
        "id": "DTFjOX2O6PZx"
      },
      "outputs": [],
      "source": [
        "# print_pattern 함수를 구현하세요: your code here\n",
        "def print_pattern(i):\n",
        "  for number in range(i+1):\n",
        "    if number == 0:\n",
        "      continue\n",
        "    else:\n",
        "      for j in range(number):\n",
        "        print(number, end=' ')\n",
        "      print()\n"
      ]
    },
    {
      "cell_type": "code",
      "execution_count": 48,
      "metadata": {
        "colab": {
          "base_uri": "https://localhost:8080/"
        },
        "id": "dwgpr--xEgao",
        "outputId": "a73e79d9-4d2f-4196-c08c-e08b702789a9"
      },
      "outputs": [
        {
          "name": "stdout",
          "output_type": "stream",
          "text": [
            "1 \n",
            "2 2 \n",
            "3 3 3 \n",
            "4 4 4 4 \n",
            "5 5 5 5 5 \n"
          ]
        }
      ],
      "source": [
        "# 구현한 함수를 이용해 아래를 실행하여 결과를 확인하세요. \n",
        "num = 5\n",
        "print_pattern(num)"
      ]
    },
    {
      "cell_type": "code",
      "execution_count": null,
      "metadata": {},
      "outputs": [],
      "source": []
    },
    {
      "cell_type": "code",
      "execution_count": 40,
      "metadata": {
        "id": "KAuZ3x4pErQa"
      },
      "outputs": [
        {
          "name": "stdout",
          "output_type": "stream",
          "text": [
            "1\n",
            "2 2 \n",
            "3 3 3 \n",
            "4 4 4 4 \n",
            "5 5 5 5 5 \n"
          ]
        }
      ],
      "source": [
        "# print_pattern_rec 함수를 구현하세요: your code here\n",
        "def print_pattern_rec(i):\n",
        "  if i == 1:\n",
        "    print(i)\n",
        "  else:\n",
        "    print_pattern_rec(i-1)\n",
        "    for counter in range(i):\n",
        "      print(i, end=' ')\n",
        "    print()\n",
        "\n",
        "num = 5\n",
        "print_pattern_rec(num)"
      ]
    },
    {
      "cell_type": "code",
      "execution_count": 38,
      "metadata": {
        "colab": {
          "base_uri": "https://localhost:8080/"
        },
        "id": "oKijvqFnEote",
        "outputId": "504c311d-6d02-4f4a-ae19-96aa666c4cac"
      },
      "outputs": [
        {
          "name": "stdout",
          "output_type": "stream",
          "text": [
            "1\n",
            "2 2 \n",
            "3 3 3 \n",
            "4 4 4 4 \n",
            "5 5 5 5 5 \n"
          ]
        }
      ],
      "source": [
        "# 구현한 함수를 이용해 아래를 실행하여 결과를 확인하세요. \n",
        "num = 5\n",
        "print_pattern_rec(num)"
      ]
    },
    {
      "cell_type": "markdown",
      "metadata": {
        "id": "669gc2sqBLBr"
      },
      "source": [
        "## P-4\n",
        "\n",
        "딕셔너리 `student_dict`가 주어질 때, 생년월일(`Birth`)의 '월'에 해당하는 값을 파악하여 계절을 판단하는 코드를 작성하고, 아래와 같은 결과를 출력하세요. \n",
        "- 키에 해당하는 값을 파악하여 `height`에 할당하세요 - 'cm'를 제외하고 소수점이 있는 형태로 받아옵니다.\n",
        "- 딕셔너리 중 `Birth` key에 해당하는 value 값은 문자열('YYYY.MM.DD')의 형태로 주어집니다. 이 중에서 '월(MM)'에 해당하는 값을 파악하여 `b_month`에 할당하세요 - 문자열 슬라이싱 혹은 내장함수를 사용할 수 있습니다. \n",
        "- `b_month` 값에 따라 계절을 판단하여 `season`에 할당하세요 - 조건문을 사용합니다. \n",
        "  - Spring (3월-5월), Summer (6월-8월), Fall (9월-11월), 나머지는 Winter로 판단합니다. \n",
        "- 딕셔너리의 다른 정보들에 해당하는 값들과 `b_month`, `season`을 활용하여 다음과 같은 문자열 형태로 출력하세요. \n",
        "  - 키는 소수점 2자리로 표현합니다.\n",
        "\n",
        "\n",
        "실행 결과:\n",
        "```\n",
        "Emma은 EE 소속이며, 태어난 계절은 Fall, 키는 163.50 입니다.\n",
        "```"
      ]
    },
    {
      "cell_type": "code",
      "execution_count": 24,
      "metadata": {},
      "outputs": [
        {
          "name": "stdout",
          "output_type": "stream",
          "text": [
            "163.5\n",
            "9\n",
            "Emma 163.5 9 fall\n"
          ]
        }
      ],
      "source": [
        "student_dict = {'Name': 'Emma', 'Info': {'Age': 20, 'Birth': '2003.09.14', 'Height': '163.5cm'}, 'Major': 'EE'}\n",
        "\n",
        "#1\n",
        "height = float(student_dict['Info']['Height'][:5])\n",
        "print(height)\n",
        "\n",
        "b_month = int(student_dict['Info']['Birth'][5:7])\n",
        "print(b_month)\n",
        "\n",
        "if b_month >= 3 and b_month<=5:\n",
        "    season ='spring'\n",
        "elif b_month >= 6 and b_month<=8:\n",
        "    season ='summer'\n",
        "elif b_month >= 9 and b_month<=11:\n",
        "    season ='fall'\n",
        "else:\n",
        "    season ='winter'\n",
        "\n",
        "print(f\"{student_dict['Name']} {height} {b_month} {season}\") "
      ]
    },
    {
      "cell_type": "code",
      "execution_count": 70,
      "metadata": {
        "colab": {
          "base_uri": "https://localhost:8080/"
        },
        "id": "qg-N0z3fAN-s",
        "outputId": "cd0cab7e-db3b-4c5e-978e-a8a9b78d71ef"
      },
      "outputs": [
        {
          "name": "stdout",
          "output_type": "stream",
          "text": [
            "163.5\n",
            "9\n",
            "Fall\n",
            "Emma은 EE 소속이며, 태어난 계절은 Fall, 키는 163.50 입니다.\n"
          ]
        }
      ],
      "source": [
        "student_dict = {'Name': 'Emma', 'Info': {'Age': 20, 'Birth': '2003.09.14', 'Height': '163.5cm'}, 'Major': 'EE'}\n",
        "\n",
        "# height를 구하는 코드를 작성하세요: your code here\n",
        "height = float(student_dict['Info']['Height'][0:5])\n",
        "print(height)\n",
        "\n",
        "# b_month를 구하는 코드를 작성하세요: your code here\n",
        "b_month = int(student_dict['Info']['Birth'][5:7])\n",
        "print(b_month)\n",
        "\n",
        "# season을 구하는 코드를 작성하세요: your code here\n",
        "if(b_month>=3 and b_month <=5):\n",
        "  season = 'Spring'\n",
        "elif(b_month>=6 and b_month <=8):\n",
        "  season = 'Summer'\n",
        "elif(b_month>=9 and b_month <=11):\n",
        "  season = 'Fall'\n",
        "else:\n",
        "  season = 'Winter'\n",
        "print(season)\n",
        "# 포매팅 출력하는 코드를 작성하세요: your code here \n",
        "print(f\"{student_dict['Name']}은 {student_dict['Major']} 소속이며, 태어난 계절은 {season}, 키는 {height:.2f} 입니다.\")\n",
        "\n"
      ]
    },
    {
      "cell_type": "markdown",
      "metadata": {
        "id": "CCyzum1uDTBk"
      },
      "source": [
        "## P-5\n",
        "\n",
        "사용자로부터 세 개의 정수를 입력 받아 (`a,b,c`라고 칭함) `a`가 `b`-자릿수인지 확인하여 True/False로 답하는 코드와 `a`가 `c`의 배수인지 확인하여 True/False로 답하는 코드를 작성하세요. \n",
        "- 연산자를 사용해 두가지를 확인하고 출력해야 합니다: \n",
        "- 첫번째: `a`가 `b`-자릿수인지 T/F\n",
        "- 두번째: `a`가 `c`의 배수인지 T/F\n",
        "\n",
        "실행 결과:\n",
        "```\n",
        "첫번째 숫자를 입력하세요 (0보다 큰 정수): 513\n",
        "두번째 숫자를 입력하세요 (0보다 큰 정수): 3\n",
        "세번째 숫자를 입력하세요 (0보다 큰 정수): 7\n",
        "513은 3자리 숫자인가요? True\n",
        "513은 7의 배수인가요? False\n",
        "\n",
        "```"
      ]
    },
    {
      "cell_type": "code",
      "execution_count": null,
      "metadata": {},
      "outputs": [],
      "source": [
        "a = int(input('첫번째 숫자를 입력하세요 (0보다 큰 정수): '))\n",
        "b = int(input('두번째 숫자를 입력하세요 (0보다 큰 정수): '))\n",
        "c = int(input('세번째 숫자를 입력하세요 (0보다 큰 정수): '))\n",
        "print(f'{a}는 {b}자리 숫자인가요? {len(str(a)) == b}')\n",
        "print(f'{a}는 {c}의 배수인가요? {a%c == 0}')"
      ]
    },
    {
      "cell_type": "code",
      "execution_count": 79,
      "metadata": {
        "colab": {
          "base_uri": "https://localhost:8080/"
        },
        "id": "ZxYoHZ3WCv0m",
        "outputId": "296fd515-b079-434e-858d-fccaff46b409"
      },
      "outputs": [
        {
          "name": "stdout",
          "output_type": "stream",
          "text": [
            "첫번째 숫자를 입력하세요(0보다 큰 정수)513\n",
            "두번째 숫자를 입력하세요(0보다 큰 정수)3\n",
            "세번째 숫자를 입력하세요(0보다 큰 정수)7\n",
            "513은 3자리 숫자인가요? True\n",
            "513은 7의 배수인가요? False\n"
          ]
        }
      ],
      "source": [
        "# 필요한 코드를 작성하세요: your code here \n",
        "a = int(input('첫번째 숫자를 입력하세요(0보다 큰 정수)'))\n",
        "while(a<=0):\n",
        "  a = int(input('첫번째 숫자를 입력하세요(0보다 큰 정수)'))\n",
        "b = int(input('두번째 숫자를 입력하세요(0보다 큰 정수)'))\n",
        "while(b<=0):\n",
        "  b = int(input('두번째 숫자를 입력하세요(0보다 큰 정수)'))\n",
        "c = int(input('세번째 숫자를 입력하세요(0보다 큰 정수)'))\n",
        "while(c<=0):\n",
        "  c = int(input('세번째 숫자를 입력하세요(0보다 큰 정수)'))\n",
        "print(f'{a}은 {b}자리 숫자인가요? {len(str(a)) == b}')\n",
        "print(f'{a}은 {c}의 배수인가요? {(a%c==0 and a>=c)}')\n",
        "\n",
        "\n"
      ]
    },
    {
      "cell_type": "markdown",
      "metadata": {
        "id": "YObj3qZ1EqiW"
      },
      "source": [
        "## P-6\n",
        "\n",
        "정수의 시작값 `start`, 끝값 `end`, 또 다른 숫자 `num`을 입력 받아 시작값과 끝값 사이에 존재하는 `num`의 배수들의 합을 반환하는 함수 `get_sum`을 구현하세요. \n",
        "- 시작값, 끝값, 숫자 는 순서대로 argument로 주어집니다. \n",
        "- 만일 `num`에 해당하는 값이 인수로 주어지지 않으면 시작값과 끝값 사이에 존재하는 모든 \"짝수\"들의 합을 반환합니다. \n",
        "- 시작값과 끝값을 모두 포함하는 범위를 고려합니다. \n",
        "\n",
        "실행 결과:\n",
        "```\n",
        "60\n",
        "104\n",
        "```"
      ]
    },
    {
      "cell_type": "code",
      "execution_count": 26,
      "metadata": {},
      "outputs": [
        {
          "name": "stdout",
          "output_type": "stream",
          "text": [
            "60\n",
            "104\n"
          ]
        }
      ],
      "source": [
        "def get_sum(start, end, num=2):\n",
        "    sum = 0\n",
        "    for i in range(start, end+1):\n",
        "        if i % num == 0:\n",
        "            sum += i\n",
        "    return sum\n",
        "\n",
        "print(get_sum(5, 20, 3)) \n",
        "print(get_sum(5, 20))\n"
      ]
    },
    {
      "cell_type": "code",
      "execution_count": 80,
      "metadata": {
        "id": "zZ9gYVySEJo_"
      },
      "outputs": [],
      "source": [
        "# get_sum 함수를 구현하세요: your code here \n",
        "def get_sum(a, b, c = 2):\n",
        "  sum = 0\n",
        "  for i in range(a, b+1):\n",
        "    if i%c == 0:\n",
        "      sum = sum + i\n",
        "    else:\n",
        "      continue\n",
        "  return sum"
      ]
    },
    {
      "cell_type": "code",
      "execution_count": 81,
      "metadata": {
        "colab": {
          "base_uri": "https://localhost:8080/"
        },
        "id": "6E09chUtMiHk",
        "outputId": "dbaeb25c-3681-4f82-f17e-382f17ffd0ad"
      },
      "outputs": [
        {
          "name": "stdout",
          "output_type": "stream",
          "text": [
            "60\n",
            "104\n"
          ]
        }
      ],
      "source": [
        "# 구현한 함수를 이용해 아래를 실행하여 결과를 확인하세요. \n",
        "print(get_sum(5, 20, 3)) \n",
        "print(get_sum(5, 20))"
      ]
    },
    {
      "cell_type": "markdown",
      "metadata": {
        "id": "1NcSMixfM7Mj"
      },
      "source": [
        "## P-7 (추가 문제)\n",
        "\n",
        "**P-6**와 비슷하게 시작값 `start` 과 끝값 `end` 사이에 존재하는 `num`의 배수들의 합을 반환하는 함수 `get_sum_ext`를 구현하세요. 이 함수는 `get_sum`과는 다르게 다양한 형태의, 임의의 개수의 입력에도 동작해야 합니다. \n",
        "- 매개변수가 한개만 들어오는 경우: 끝값 `end`에 해당합니다. 이 경우 시작값 `start`는 1로 두고, `num`은 2로 가정합니다. \n",
        "- 매개변수가 두개만 들어오는 경우: 첫번째 들어오는 값이 시작값 `start`, 두번째로 들어오는 값이 끝값 `end`에 해당합니다. 이 경우 `num`은 2로 가정합니다. \n",
        "- 매개변수가 세개 들어오는 경우: 첫번째 들어오는 값이 시작값 `start`, 두번째로 들어오는 값이 끝값 `end`, 세번째로 들어오는 값이 `num`에 해당합니다. \n",
        "- 이 외의 경우는 모두 'Invalid arguments'를 출력하고 0을 반환합니다. \n",
        "- 앞에서 구현한 `get_sum`을 사용할 수 있습니다. \n",
        "\n",
        "\n",
        "실행 결과:\n",
        "```\n",
        "6\n",
        "104\n",
        "60\n",
        "Invalid arguments\n",
        "0\n",
        "```"
      ]
    },
    {
      "cell_type": "code",
      "execution_count": null,
      "metadata": {},
      "outputs": [],
      "source": [
        "def get_sum_ext(*nums):\n",
        "    sum = 0\n",
        "    if len(nums) == 1:\n",
        "        for i in range(1, nums[0]+1):\n",
        "            if i%2 ==0:\n",
        "                sum += i\n",
        "\n",
        "    elif len(nums) == 2:\n",
        "        for i in range(nums[0], nums[1]+1):\n",
        "            if i%2 ==0:\n",
        "                sum += i\n",
        "\n",
        "    elif len(nums) == 3:\n",
        "        for i in range(nums[0], nums[1]+1):\n",
        "            if i%(nums[3]) == 0:\n",
        "                sum += i\n",
        "\n",
        "    else:\n",
        "        print(\"invalid argument\")\n",
        "    return sum\n",
        "\n",
        "    "
      ]
    },
    {
      "cell_type": "code",
      "execution_count": 27,
      "metadata": {
        "id": "Afpw2nFiFWkJ"
      },
      "outputs": [
        {
          "name": "stdout",
          "output_type": "stream",
          "text": [
            "6\n",
            "104\n",
            "60\n",
            "Invalid arguments\n",
            "0\n"
          ]
        }
      ],
      "source": [
        "# get_sum_ext 함수를 구현하세요: your code here\n",
        "def get_sum_ext(*nums):\n",
        "  if(len(nums)>3):\n",
        "    print('Invalid arguments')\n",
        "    return 0\n",
        "  else:\n",
        "    if(len(nums) == 1):\n",
        "      sum = 0\n",
        "      for i in range(nums[0] + 1):\n",
        "        if i%2 == 0:\n",
        "          sum = sum + i\n",
        "        else:\n",
        "          continue\n",
        "    elif(len(nums) == 2):\n",
        "      sum = 0\n",
        "      for i in range(nums[0], nums[1]+1):\n",
        "        if i%2 == 0:\n",
        "          sum = sum + i\n",
        "        else:\n",
        "          continue\n",
        "    else:\n",
        "      sum = 0\n",
        "      for i in range(nums[0], nums[1]+1):\n",
        "        if i%nums[2] == 0:\n",
        "          sum = sum + i\n",
        "        else:\n",
        "          continue\n",
        "    return sum\n",
        "\n",
        "print(get_sum_ext(5))\n",
        "print(get_sum_ext(5, 20))\n",
        "print(get_sum_ext(5, 20, 3))\n",
        "print(get_sum_ext(5, 20, 3, 4))\n"
      ]
    },
    {
      "cell_type": "code",
      "execution_count": 29,
      "metadata": {
        "colab": {
          "base_uri": "https://localhost:8080/"
        },
        "id": "UPWnCRAsGg--",
        "outputId": "713d4dbc-4f97-4c94-ac3c-1744c0fb564f"
      },
      "outputs": [
        {
          "name": "stdout",
          "output_type": "stream",
          "text": [
            "6\n",
            "104\n",
            "60\n",
            "invalid argument\n",
            "0\n"
          ]
        }
      ],
      "source": [
        "# 구현한 함수를 이용해 아래를 실행하여 결과를 확인하세요. \n",
        "def get_sum_ext(*nums):\n",
        "    sum = 0\n",
        "    if len(nums) == 1:\n",
        "        for i in range(1, nums[0]+1):\n",
        "            if i%2 ==0:\n",
        "                sum += i\n",
        "\n",
        "    elif len(nums) == 2:\n",
        "        for i in range(nums[0], nums[1]+1):\n",
        "            if i%2 ==0:\n",
        "                sum += i\n",
        "\n",
        "    elif len(nums) == 3:\n",
        "        for i in range(nums[0], nums[1]+1):\n",
        "            if i%(nums[2]) == 0:\n",
        "                sum += i\n",
        "\n",
        "    else:\n",
        "        print(\"invalid argument\")\n",
        "    return sum\n",
        "\n",
        "print(get_sum_ext(5))\n",
        "print(get_sum_ext(5, 20))\n",
        "print(get_sum_ext(5, 20, 3))\n",
        "print(get_sum_ext(5, 20, 3, 4))"
      ]
    },
    {
      "cell_type": "markdown",
      "metadata": {
        "id": "SSLDPgDMKYtD"
      },
      "source": [
        "## P-8\n",
        "\n",
        "다양한 단어들로 이루어진 리스트 `words`가 주어질 때, lambda 함수와 map, filter를 사용하여 다음과 같은 두개의 리스트를 얻을 수 있도록 코드를 구현하세요. \n",
        "- `upper_words` 리스트는 `words` 리스트에 있는 단어들을 모두 대문자로 바꾼 리스트입니다.\n",
        "- `symmetric_words` 리스트는 `upper_words` 리스트에 있는 단어들 중 좌우 대칭인 단어들만 골라 만든 리스트입니다. \n",
        "  - 혹은 `words` 리스트에서 대/소문자 구분 없이 좌우 대칭을 확인하여도 됩니다.\n",
        "  - 좌우 대칭인 단어는 앞으로 읽어도, 뒤로 읽어도 (역순으로) 동일안 단어를 의미합니다.\n",
        "- lambda 함수와 `map`, `filter` 함수를 사용합니다.\n",
        "\n",
        "실행 결과:\n",
        "```\n",
        "['NOON', 'BANANA', 'MELON', 'MADAM', 'REFER', 'MANGO']\n",
        "['NOON', 'MADAM', 'REFER']\n",
        "```"
      ]
    },
    {
      "cell_type": "code",
      "execution_count": 32,
      "metadata": {},
      "outputs": [
        {
          "name": "stdout",
          "output_type": "stream",
          "text": [
            "['NOON', 'BANANA', 'MELON', 'MADAM', 'REFER', 'MANGO']\n",
            "['NOON', 'MADAM', 'REFER']\n"
          ]
        }
      ],
      "source": [
        "words = ['Noon', 'baNAna', 'meLon', 'madam', 'Refer', 'mango']\n",
        "\n",
        "upper_words = list(map(lambda a: a.upper(), words))\n",
        "print(upper_words)\n",
        "symmetric_words = list(filter(lambda b: b==b[::-1], upper_words))\n",
        "print(symmetric_words)"
      ]
    },
    {
      "cell_type": "code",
      "execution_count": 33,
      "metadata": {
        "id": "PF8b78RuGlKz"
      },
      "outputs": [],
      "source": [
        "words = ['Noon', 'baNAna', 'meLon', 'madam', 'Refer', 'mango']\n",
        "\n",
        "# upper_words를 구하는 코드를 작성하세요: your code here \n",
        "upper_words = list(map(lambda x: x.upper(), words))\n",
        "\n",
        "# symmetric_words를 구하는 코드를 작성하세요: your code here\n",
        "symmetric_words = list(filter(lambda x: x == x[::-1], upper_words))\n"
      ]
    },
    {
      "cell_type": "code",
      "execution_count": 180,
      "metadata": {
        "colab": {
          "base_uri": "https://localhost:8080/"
        },
        "id": "H4tO8daOSLtn",
        "outputId": "748719cf-6fcb-45e0-cdca-8a8c96c4a97e"
      },
      "outputs": [
        {
          "name": "stdout",
          "output_type": "stream",
          "text": [
            "['NOON', 'BANANA', 'MELON', 'MADAM', 'REFER', 'MANGO']\n",
            "[]\n"
          ]
        }
      ],
      "source": [
        "# 아래를 실행하여 결과를 확인하세요. \n",
        "print(upper_words)\n",
        "print(symmetric_words)"
      ]
    },
    {
      "cell_type": "markdown",
      "metadata": {
        "id": "RrAO3FqjPdnz"
      },
      "source": [
        "## P-9\n",
        "\n",
        "임의의 개수의 문자열들을 입력인수로 받아, 사용자로부터 입력받은 문자가 각 문자열에 몇번 존재하는 지 그 횟수를 구하고, 각 문자열과 그 횟수를 출력하는 함수 `print_counts`를 구현하세요. \n",
        "- 임의의 개수의 문자열들을 입력값으로 받아옵니다. \n",
        "- 횟수를 확인하고자 하는 문자(혹은 문자열)를 사용자로부터 입력받습니다. \n",
        "- 각 문자열에 해당 문자가 몇번 존재하는 지 횟수를 구하고 각 문자열과 그 횟수를 아래와 같은 형태로 출력합니다. \n",
        "\n",
        "실행 결과:\n",
        "```\n",
        "횟수를 확인하고 싶은 문자를 입력하세요: e\n",
        "Dobby is free: count of e is 2\n",
        "Fear of a name only increaes fear of the thing itself: count of e is 7\n",
        "Python Proramming Midterm Exam: count of e is 1\n",
        "```"
      ]
    },
    {
      "cell_type": "code",
      "execution_count": 34,
      "metadata": {},
      "outputs": [
        {
          "name": "stdout",
          "output_type": "stream",
          "text": [
            "Dobby is free: count of  is 14\n",
            "Fear of a name only increaes fear of the thing itself: count of  is 54\n",
            "Python Proramming Midterm Exam: count of  is 31\n"
          ]
        }
      ],
      "source": [
        "def print_counts(*str):\n",
        "    check = input('횟수를 확인하고 싶은 문자를 입력하세요: ')\n",
        "    for i in str:\n",
        "        a = i.count(check)\n",
        "        print(f'{i}: count of {check} is {a}')\n",
        "\n",
        "print_counts('Dobby is free', 'Fear of a name only increaes fear of the thing itself', 'Python Proramming Midterm Exam')"
      ]
    },
    {
      "cell_type": "code",
      "execution_count": 2,
      "metadata": {},
      "outputs": [
        {
          "name": "stdout",
          "output_type": "stream",
          "text": [
            "('Dobby is free', 'Fear of a name only increaes fear of the thing itself', 'Python Proramming Midterm Exam'): count of  is 0\n",
            "('Dobby is free', 'Fear of a name only increaes fear of the thing itself', 'Python Proramming Midterm Exam'): count of  is 0\n",
            "('Dobby is free', 'Fear of a name only increaes fear of the thing itself', 'Python Proramming Midterm Exam'): count of  is 0\n"
          ]
        }
      ],
      "source": [
        "def print_counts (*str):\n",
        "    check = input('횟수를 확인하고 싶은 문자를 입력하세요:')\n",
        "    for i in str:\n",
        "        print(f'{i}: count of {check} is {i.count(check)}') #확인하고자 하는 문자열: i\n",
        "\n",
        "print_counts('Dobby is free', 'Fear of a name only increaes fear of the thing itself', 'Python Proramming Midterm Exam')"
      ]
    },
    {
      "cell_type": "code",
      "execution_count": 3,
      "metadata": {
        "id": "ZL2tSLsoVJqg"
      },
      "outputs": [],
      "source": [
        "# print_counts 함수를 구현하세요: your code here \n",
        "def print_counts(*list):\n",
        "  a = input('횟수를 확인하고 싶은 문자를 입력하세요')\n",
        "  for i in list:\n",
        "    print(f'{i}: count of {a} is {i.count(a)}')\n",
        "\n"
      ]
    },
    {
      "cell_type": "code",
      "execution_count": 4,
      "metadata": {
        "colab": {
          "base_uri": "https://localhost:8080/"
        },
        "id": "9fQso1Q2Xkxj",
        "outputId": "fadf107e-046b-40ee-d2d1-3433d008136d"
      },
      "outputs": [
        {
          "name": "stdout",
          "output_type": "stream",
          "text": [
            "Dobby is free: count of \\ is 0\n",
            "Fear of a name only increaes fear of the thing itself: count of \\ is 0\n",
            "Python Proramming Midterm Exam: count of \\ is 0\n"
          ]
        }
      ],
      "source": [
        "# 구현한 함수를 이용해 아래를 실행하여 결과를 확인하세요. \n",
        "def print_counts(*list):\n",
        "  a = input('횟수를 확인하고 싶은 문자를 입력하세요')\n",
        "  for i in list:\n",
        "    print(f'{i}: count of {a} is {i.count(a)}')\n",
        "\n",
        "print_counts('Dobby is free', 'Fear of a name only increaes fear of the thing itself', 'Python Proramming Midterm Exam')"
      ]
    },
    {
      "cell_type": "markdown",
      "metadata": {
        "id": "HYNEq5XOW5rb"
      },
      "source": [
        "## P-10\n",
        "\n",
        "정수를 연속으로 사용자로부터 입력 받아 양수와 음수를 구별하여 두 개의 리스트를 만들고 오름차순으로 정렬해 반환하는 함수 `get_pos_neg` 함수를 구현하세요. 사용자로부터 0을 입력받으면 함수가 종료됩니다. \n",
        "```\n",
        "숫자를 입력하세요 (0을 입력하면 종료): -5\n",
        "숫자를 입력하세요 (0을 입력하면 종료): 2022\n",
        "숫자를 입력하세요 (0을 입력하면 종료): -26\n",
        "숫자를 입력하세요 (0을 입력하면 종료): 4\n",
        "숫자를 입력하세요 (0을 입력하면 종료): 62\n",
        "숫자를 입력하세요 (0을 입력하면 종료): 0\n",
        "Positive inputs:  [4, 62, 2022]\n",
        "Negative inputs:  [-26, -5]\n",
        "```"
      ]
    },
    {
      "cell_type": "code",
      "execution_count": null,
      "metadata": {},
      "outputs": [],
      "source": [
        "def get_pos_neg():\n",
        "    a = int(input(\"숫자를 입력하세요 (0을 입력하면 종료)\"))\n",
        "    pos_lst = []\n",
        "    neg_lst = []\n",
        "    while a != 0:\n",
        "        if a > 0:\n",
        "            pos_lst.append(a)\n",
        "        elif a < 0:\n",
        "            neg_lst.append(a)\n",
        "        a = int(input(\"숫자를 입력하세요 (0을 입력하면 종료)\"))\n",
        "    pos_lst.sort\n",
        "    neg_lst.sort\n",
        "\n",
        "    return pos_lst, neg_lst\n",
        "\n",
        "pos, neg = get_pos_neg()\n",
        "print('Positive inputs: ', pos)\n",
        "print('Negative inputs: ', neg)"
      ]
    },
    {
      "cell_type": "code",
      "execution_count": 5,
      "metadata": {},
      "outputs": [
        {
          "ename": "ValueError",
          "evalue": "invalid literal for int() with base 10: ''",
          "output_type": "error",
          "traceback": [
            "\u001b[0;31m---------------------------------------------------------------------------\u001b[0m",
            "\u001b[0;31mValueError\u001b[0m                                Traceback (most recent call last)",
            "Cell \u001b[0;32mIn [5], line 17\u001b[0m\n\u001b[1;32m     14\u001b[0m     \u001b[39msorted\u001b[39m(lst_n)\n\u001b[1;32m     15\u001b[0m     \u001b[39mreturn\u001b[39;00m lst_p, lst_n\n\u001b[0;32m---> 17\u001b[0m pos, neg \u001b[39m=\u001b[39m get_pos_neg()\n\u001b[1;32m     18\u001b[0m \u001b[39mprint\u001b[39m(\u001b[39m'\u001b[39m\u001b[39mPositive inputs: \u001b[39m\u001b[39m'\u001b[39m, pos)\n\u001b[1;32m     19\u001b[0m \u001b[39mprint\u001b[39m(\u001b[39m'\u001b[39m\u001b[39mNegative inputs: \u001b[39m\u001b[39m'\u001b[39m, neg)\n",
            "Cell \u001b[0;32mIn [5], line 4\u001b[0m, in \u001b[0;36mget_pos_neg\u001b[0;34m()\u001b[0m\n\u001b[1;32m      2\u001b[0m lst_p\u001b[39m=\u001b[39m[]\n\u001b[1;32m      3\u001b[0m lst_n\u001b[39m=\u001b[39m[]\n\u001b[0;32m----> 4\u001b[0m a \u001b[39m=\u001b[39m \u001b[39mint\u001b[39;49m(\u001b[39minput\u001b[39;49m(\u001b[39m'\u001b[39;49m\u001b[39m숫자를 입력하세요 (0을 입력하면 종료):\u001b[39;49m\u001b[39m'\u001b[39;49m))\n\u001b[1;32m      5\u001b[0m \u001b[39mwhile\u001b[39;00m(\u001b[39mTrue\u001b[39;00m):\n\u001b[1;32m      6\u001b[0m     \u001b[39mif\u001b[39;00m a \u001b[39m==\u001b[39m \u001b[39m0\u001b[39m:\n",
            "\u001b[0;31mValueError\u001b[0m: invalid literal for int() with base 10: ''"
          ]
        }
      ],
      "source": [
        "def get_pos_neg():\n",
        "    lst_p=[]\n",
        "    lst_n=[]\n",
        "    a = int(input('숫자를 입력하세요 (0을 입력하면 종료):'))\n",
        "    while(True):\n",
        "        if a == 0:\n",
        "            break\n",
        "        elif a > 0:\n",
        "            lst_p.append(a)\n",
        "        elif a < 0:\n",
        "            lst_n.append(a)\n",
        "        a = int(input('숫자를 입력하세요 (0을 입력하면 종료):'))\n",
        "    lst_p()\n",
        "    lst_n()\n",
        "    return lst_p, lst_n\n",
        "    \n",
        "pos, neg = get_pos_neg()\n",
        "print('Positive inputs: ', pos)\n",
        "print('Negative inputs: ', neg)"
      ]
    },
    {
      "cell_type": "code",
      "execution_count": 143,
      "metadata": {
        "id": "ZhEMhZKyR9Xj"
      },
      "outputs": [],
      "source": [
        "# get_pos_neg 함수를 구현하세요: your code here\n",
        "def get_pos_neg():\n",
        "  pos_list = []\n",
        "  neg_list = []\n",
        "  usr_input = 1\n",
        "  while usr_input != 0:\n",
        "    usr_input = int(input('숫자를를 입력하세요 (0을 입력하면 종료)'))\n",
        "    if usr_input>0:\n",
        "      pos_list.append(usr_input)\n",
        "    elif usr_input<0:\n",
        "      neg_list.append(usr_input)\n",
        "    else:\n",
        "      break\n",
        "  pos_list.sort()\n",
        "  neg_list.sort()\n",
        "  return pos_list, neg_list\n"
      ]
    },
    {
      "cell_type": "code",
      "execution_count": 144,
      "metadata": {
        "colab": {
          "base_uri": "https://localhost:8080/"
        },
        "id": "qK60BWZbVEbU",
        "outputId": "2020d4f2-a810-41f5-f5f5-34df3e48b59d"
      },
      "outputs": [
        {
          "name": "stdout",
          "output_type": "stream",
          "text": [
            "숫자를를 입력하세요 (0을 입력하면 종료)-5\n",
            "숫자를를 입력하세요 (0을 입력하면 종료)2022\n",
            "숫자를를 입력하세요 (0을 입력하면 종료)-26\n",
            "숫자를를 입력하세요 (0을 입력하면 종료)4\n",
            "숫자를를 입력하세요 (0을 입력하면 종료)62\n",
            "숫자를를 입력하세요 (0을 입력하면 종료)0\n",
            "Positive inputs:  [4, 62, 2022]\n",
            "Negative inputs:  [-26, -5]\n"
          ]
        }
      ],
      "source": [
        "# 구현한 함수를 이용해 아래를 실행하여 결과를 확인하세요. \n",
        "pos, neg = get_pos_neg()\n",
        "print('Positive inputs: ', pos)\n",
        "print('Negative inputs: ', neg)"
      ]
    }
  ],
  "metadata": {
    "colab": {
      "collapsed_sections": [],
      "name": "SCS2013_Mid_a.ipynb",
      "provenance": [],
      "toc_visible": true
    },
    "kernelspec": {
      "display_name": "Python 3.10.5 64-bit",
      "language": "python",
      "name": "python3"
    },
    "language_info": {
      "codemirror_mode": {
        "name": "ipython",
        "version": 3
      },
      "file_extension": ".py",
      "mimetype": "text/x-python",
      "name": "python",
      "nbconvert_exporter": "python",
      "pygments_lexer": "ipython3",
      "version": "3.10.5"
    },
    "vscode": {
      "interpreter": {
        "hash": "aee8b7b246df8f9039afb4144a1f6fd8d2ca17a180786b69acc140d282b71a49"
      }
    }
  },
  "nbformat": 4,
  "nbformat_minor": 0
}
